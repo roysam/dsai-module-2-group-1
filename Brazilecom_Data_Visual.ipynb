{
 "cells": [
  {
   "cell_type": "markdown",
   "metadata": {},
   "source": [
    "# Introdution\n",
    "\n",
    "## This notebook will contain the data analysis for Brazilian Ecommerce  Dataset"
   ]
  },
  {
   "cell_type": "code",
   "execution_count": null,
   "metadata": {},
   "outputs": [],
   "source": [
    "#pip install plotly dash"
   ]
  },
  {
   "cell_type": "markdown",
   "metadata": {},
   "source": [
    "## Connection to Bigquery\n",
    "\n",
    "### Our data warehouse is hosted in Bigquery. The following codes established a connection to Bigquery"
   ]
  },
  {
   "cell_type": "code",
   "execution_count": null,
   "metadata": {},
   "outputs": [],
   "source": [
    "import pandas as pd\n",
    "import numpy as np\n",
    "import matplotlib.pyplot as plt\n",
    "from matplotlib.ticker import MaxNLocator\n",
    "from google.cloud import bigquery\n",
    "from google.oauth2 import service_account\n",
    "\n",
    "# Path to your service account key JSON file\n",
    "key_path = \"C:/Users/Tricia/personal/module_2_project/key/dsai-module-2-project-25282646cfd3.json\"\n",
    "        \n",
    "# Create credentials from service account key\n",
    "credentials = service_account.Credentials.from_service_account_file(\n",
    "    key_path,\n",
    "    scopes=[\"https://www.googleapis.com/auth/bigquery\"]\n",
    ")\n",
    "\n",
    "# Create BigQuery client\n",
    "client = bigquery.Client(\n",
    "    credentials=credentials,\n",
    "    project=credentials.project_id\n",
    ")"
   ]
  },
  {
   "cell_type": "markdown",
   "metadata": {},
   "source": [
    "## Define the path to the facts and dimension tables"
   ]
  },
  {
   "cell_type": "code",
   "execution_count": null,
   "metadata": {},
   "outputs": [],
   "source": [
    "facts_path = \"dsai-module-2-project.brazilecom_facts\"\n",
    "dimension_path = \"dsai-module-2-project.brazilecom_dimensions\""
   ]
  },
  {
   "cell_type": "markdown",
   "metadata": {},
   "source": [
    "## Sellers Performance Charts"
   ]
  },
  {
   "cell_type": "code",
   "execution_count": null,
   "metadata": {},
   "outputs": [],
   "source": [
    "# Define the SQL query\n",
    "query = f\"\"\"\n",
    "    SELECT \n",
    "        A.*, \n",
    "        B.seller_city, \n",
    "        B.seller_state \n",
    "    FROM \n",
    "        {facts_path}.fact_seller_performance AS A\n",
    "    INNER JOIN \n",
    "        {dimension_path}.dim_sellers AS B\n",
    "    ON \n",
    "        A.seller_id = B.seller_id\n",
    "\"\"\"\n",
    "\n",
    "\n",
    "# Run the query\n",
    "query_job = client.query(query)\n",
    "\n",
    "# Run the query and fetch the results into a DataFrame\n",
    "df_seller_performance = client.query(query).to_dataframe()\n",
    "\n",
    "#df_seller_performance"
   ]
  },
  {
   "cell_type": "markdown",
   "metadata": {},
   "source": [
    "# Total Sales by Sellers (Top 10)"
   ]
  },
  {
   "cell_type": "code",
   "execution_count": null,
   "metadata": {},
   "outputs": [],
   "source": [
    "# Grouping and sorting the data\n",
    "grouped_data = df_seller_performance.groupby([\"seller_id\"]).agg({\"total_turnover\": \"sum\"}).sort_values(\"total_turnover\", ascending=False)\n",
    "top_n = grouped_data.head(10)\n",
    "\n",
    "# Plotting a bar chart\n",
    "top_n['total_turnover'].plot(kind='barh', figsize=(10, 6), color='orange')\n",
    "\n",
    "# Adding labels and title\n",
    "plt.title(\"Total Sales by Sellers (Top 10)\", fontsize=14)\n",
    "plt.xlabel(\"Total Sales\", fontsize=12)\n",
    "plt.ylabel(\"Seller\", fontsize=12)\n",
    "plt.xticks(rotation=45, ha='right')  # Rotating x-axis labels for better visibility\n",
    "\n",
    "# Reverse the y-axis so that the top sales are on top\n",
    "plt.gca().invert_yaxis()\n",
    "\n",
    "plt.tight_layout()\n",
    "plt.show()"
   ]
  },
  {
   "cell_type": "markdown",
   "metadata": {},
   "source": [
    "# Total Sales by State (Top 10)"
   ]
  },
  {
   "cell_type": "code",
   "execution_count": null,
   "metadata": {},
   "outputs": [],
   "source": [
    "# Grouping and sorting the data\n",
    "grouped_data_state = df_seller_performance.groupby([\"seller_state\"]).agg({\"total_turnover\": \"sum\"}).sort_values(\"total_turnover\", ascending=False)\n",
    "top_n_state = grouped_data_state.head(10)\n",
    "\n",
    "# Plotting a bar chart\n",
    "top_n_state['total_turnover'].plot(kind='bar', figsize=(10, 6), color='orange')\n",
    "\n",
    "# Adding labels and title\n",
    "plt.title(\"Total Sales by State (Top 10)\", fontsize=14)\n",
    "plt.xlabel(\"State\", fontsize=12)\n",
    "plt.ylabel(\"Total Sales\", fontsize=12)\n",
    "plt.xticks(rotation=45, ha='right')  # Rotating x-axis labels for better visibility\n",
    "\n",
    "# Format the y-axis ticks to display regular numbers\n",
    "plt.gca().yaxis.set_major_locator(MaxNLocator(integer=True))  # Ensures the y-axis labels are displayed as integers\n",
    "plt.gca().yaxis.set_major_formatter(plt.FuncFormatter(lambda x, _: f'{x:,.0f}'))  # Add commas for better readability\n",
    "\n",
    "plt.tight_layout()\n",
    "plt.show()"
   ]
  },
  {
   "cell_type": "markdown",
   "metadata": {},
   "source": [
    "# Number of Sellers by Sales Amount (Bins)"
   ]
  },
  {
   "cell_type": "markdown",
   "metadata": {},
   "source": [
    "# Create bins for total turnover (low, medium, high)\n",
    "bins = [0, 500, 2000, 5000, 10000, 20000]  # Adjust bins as needed\n",
    "labels = ['0-500', '500-2000', '2000-5000', '5000-10000', '10000+']\n",
    "grouped_data['turnover_range'] = pd.cut(grouped_data['total_turnover'], bins=bins, labels=labels)\n",
    "\n",
    "# Count the number of sellers in each turnover range\n",
    "turnover_range_counts = grouped_data['turnover_range'].value_counts().sort_index()\n",
    "\n",
    "# Plotting the count of sellers in each turnover range\n",
    "turnover_range_counts.plot(kind='bar', figsize=(10, 6), color='orange')\n",
    "\n",
    "# Adding labels and title\n",
    "plt.title(\"Number of Sellers by Sales Amount (Bins)\", fontsize=14)\n",
    "plt.xlabel(\"Sales Amount Bins\", fontsize=12)\n",
    "plt.ylabel(\"Number of Sellers\", fontsize=12)\n",
    "plt.xticks(rotation=45, ha='right')  # Rotating x-axis labels for better visibility\n",
    "plt.tight_layout()\n",
    "plt.show()"
   ]
  },
  {
   "cell_type": "markdown",
   "metadata": {},
   "source": [
    "# Total Orders by Sellers (Top 10)"
   ]
  },
  {
   "cell_type": "code",
   "execution_count": null,
   "metadata": {},
   "outputs": [],
   "source": [
    "\n",
    "# Grouping and sorting the data\n",
    "grouped_data_orders = df_seller_performance.groupby([\"seller_id\"]).agg({\"total_orders\": \"sum\"}).sort_values(\"total_orders\", ascending=False)\n",
    "top_n_orders = grouped_data_orders.head(10)\n",
    "\n",
    "# Plotting a bar chart\n",
    "top_n_orders['total_orders'].plot(kind='bar', figsize=(10, 6), color='orange')\n",
    "\n",
    "# Adding labels and title\n",
    "plt.title(\"Total Orders by Sellers (Top 10)\", fontsize=14)\n",
    "plt.xlabel(\"Seller\", fontsize=12)\n",
    "plt.ylabel(\"Total Orders\", fontsize=12)\n",
    "plt.xticks(rotation=45, ha='right')  # Rotating x-axis labels for better visibility\n",
    "plt.tight_layout()\n",
    "plt.show()"
   ]
  },
  {
   "cell_type": "markdown",
   "metadata": {},
   "source": [
    "# Number of Sellers by Orders Range"
   ]
  },
  {
   "cell_type": "code",
   "execution_count": null,
   "metadata": {},
   "outputs": [],
   "source": [
    "# Create bins for total turnover (low, medium, high)\n",
    "bins = [0, 10, 30, 50, 80, 100]  # Adjust bins as needed\n",
    "labels = ['0-10', '10-30', '30-50', '50-80', '80+']\n",
    "grouped_data_orders['orders_range'] = pd.cut(grouped_data_orders['total_orders'], bins=bins, labels=labels)\n",
    "\n",
    "# Count the number of sellers in each turnover range\n",
    "turnover_range_counts = grouped_data_orders['orders_range'].value_counts().sort_index()\n",
    "\n",
    "# Plotting the count of sellers in each turnover range\n",
    "turnover_range_counts.plot(kind='bar', figsize=(10, 6), color='orange')\n",
    "\n",
    "# Adding labels and title\n",
    "plt.title(\"Number of Sellers by Orders (Bins)\", fontsize=14)\n",
    "plt.xlabel(\"Number of Orders (Bins)\", fontsize=12)\n",
    "plt.ylabel(\"Number of Sellers\", fontsize=12)\n",
    "plt.tight_layout()\n",
    "plt.show()"
   ]
  },
  {
   "cell_type": "markdown",
   "metadata": {},
   "source": [
    "# Total Sales by Year"
   ]
  },
  {
   "cell_type": "code",
   "execution_count": null,
   "metadata": {},
   "outputs": [],
   "source": [
    "df_seller_performance['month'] = pd.to_datetime(df_seller_performance['month'])\n",
    "df_seller_performance['year'] = df_seller_performance['month'].dt.year\n",
    "\n",
    "annual_turnover = df_seller_performance.groupby(\"year\").agg({'total_turnover':'sum'}).sort_values(\"year\")\n",
    "# Convert the index (year) to integer explicitly (if needed)\n",
    "annual_turnover.index = annual_turnover.index.astype(int)\n",
    "\n",
    "# Plotting the line graph\n",
    "plt.figure(figsize=(10, 6))\n",
    "plt.plot(annual_turnover.index.astype(str), annual_turnover['total_turnover'], marker='o', color='skyblue', linestyle='-', linewidth=2)\n",
    "\n",
    "# Adding labels and title\n",
    "plt.title(\"Total Turnover by Year\", fontsize=14)\n",
    "plt.xlabel(\"Year\", fontsize=12)\n",
    "plt.ylabel(\"Total Turnover\", fontsize=12)\n",
    "\n",
    "# Format the y-axis ticks to display regular numbers\n",
    "plt.gca().yaxis.set_major_locator(MaxNLocator(integer=True))  # Ensures the y-axis labels are displayed as integers\n",
    "plt.gca().yaxis.set_major_formatter(plt.FuncFormatter(lambda x, _: f'{x:,.0f}'))  # Add commas for better readability\n",
    "\n",
    "# Display the plot\n",
    "plt.tight_layout()\n",
    "plt.show()"
   ]
  },
  {
   "cell_type": "markdown",
   "metadata": {},
   "source": [
    "# Sales Growth by Year and Seller State (Top 5)"
   ]
  },
  {
   "cell_type": "code",
   "execution_count": null,
   "metadata": {},
   "outputs": [],
   "source": [
    "top5_states = df_seller_performance.groupby(\"seller_state\").agg({'total_turnover': 'sum'}).sort_values(\"total_turnover\", ascending=False).head(5)\n",
    "top5_states.index\n",
    "\n",
    "# Convert 'month' column to datetime\n",
    "df_seller_performance['month'] = pd.to_datetime(df_seller_performance['month'])\n",
    "\n",
    "# Extract the year from the 'month' column\n",
    "df_seller_performance['year'] = df_seller_performance['month'].dt.year\n",
    "\n",
    "# Group by year and seller_state, then aggregate total turnover\n",
    "annual_turnover = df_seller_performance.groupby([\"year\", \"seller_state\"]).agg({'total_turnover': 'sum'}).sort_values(\"year\")\n",
    "\n",
    "# Reset the index to flatten the multi-level index\n",
    "annual_turnover = annual_turnover.reset_index()\n",
    "annual_turnover = annual_turnover[annual_turnover[\"seller_state\"].isin(top5_states.index)] #returns over the data from the top 5 states that we calculated earlier\n",
    "\n",
    "plt.figure(figsize=(10, 6))\n",
    "\n",
    "# Loop through each seller_state and plot a separate line for each\n",
    "for state in annual_turnover['seller_state'].unique():\n",
    "    state_data = annual_turnover[annual_turnover['seller_state'] == state]\n",
    "    plt.plot(state_data['year'].astype(str), state_data['total_turnover'], marker='o', label=state)\n",
    "\n",
    "plt.title(\"Sales Growth by Year and Seller State (Top 5)\", fontsize=14)\n",
    "plt.xlabel(\"Year\", fontsize=12)\n",
    "plt.ylabel(\"Total Sales\", fontsize=12)\n",
    "\n",
    "# Format the y-axis ticks to display regular numbers\n",
    "plt.gca().yaxis.set_major_locator(MaxNLocator(integer=True)) \n",
    "plt.gca().yaxis.set_major_formatter(plt.FuncFormatter(lambda x, _: f'{x:,.0f}'))\n",
    "\n",
    "plt.legend(title='Seller State', bbox_to_anchor=(1.05, 1), loc='upper left')\n",
    "plt.tight_layout()\n",
    "plt.show()"
   ]
  },
  {
   "cell_type": "markdown",
   "metadata": {},
   "source": [
    "# Sales Growth by Month and Seller State (2017)"
   ]
  },
  {
   "cell_type": "code",
   "execution_count": null,
   "metadata": {},
   "outputs": [],
   "source": [
    "# Convert 'month' column to datetime\n",
    "df_seller_performance['month'] = pd.to_datetime(df_seller_performance['month'])\n",
    "\n",
    "# Extract the year from the 'month' column\n",
    "df_seller_performance['year'] = df_seller_performance['month'].dt.year\n",
    "df_seller_performance['month_name'] = df_seller_performance['month'].dt.strftime('%b')\n",
    "\n",
    "df_filtered = df_seller_performance[df_seller_performance[\"year\"] == 2017]\n",
    "# Group by year and seller_state, then aggregate total turnover\n",
    "annual_turnover = df_filtered.groupby([\"year\",\"month\", \"month_name\", \"seller_state\"]).agg({'total_turnover': 'sum'}).sort_values(\"month\")\n",
    "\n",
    "# Reset the index to flatten the multi-level index\n",
    "annual_turnover = annual_turnover.reset_index()\n",
    "annual_turnover = annual_turnover[annual_turnover[\"seller_state\"].isin(top5_states.index)] #returns over the data from the top 5 states that we calculated earlier\n",
    "\n",
    "plt.figure(figsize=(10, 6))\n",
    "\n",
    "# Loop through each seller_state and plot a separate line for each\n",
    "for state in annual_turnover['seller_state'].unique():\n",
    "    state_data = annual_turnover[annual_turnover['seller_state'] == state]\n",
    "    plt.plot(state_data['month_name'].astype(str), state_data['total_turnover'], marker='o', label=state)\n",
    "\n",
    "plt.title(\"Sales Growth by Month and Seller State (2017)\", fontsize=14)\n",
    "plt.xlabel(\"Year\", fontsize=12)\n",
    "plt.ylabel(\"Total Sales\", fontsize=12)\n",
    "\n",
    "# Format the y-axis ticks to display regular numbers\n",
    "plt.gca().yaxis.set_major_locator(MaxNLocator(integer=True))  # Ensures the y-axis labels are displayed as integers\n",
    "plt.gca().yaxis.set_major_formatter(plt.FuncFormatter(lambda x, _: f'{x:,.0f}'))  # Add commas for better readability\n",
    "\n",
    "plt.legend(title='Seller State', bbox_to_anchor=(1.05, 1), loc='upper left')\n",
    "\n",
    "plt.tight_layout()\n",
    "plt.show()"
   ]
  },
  {
   "cell_type": "markdown",
   "metadata": {},
   "source": [
    "# Total Products Sold by Year (Top 10)"
   ]
  },
  {
   "cell_type": "code",
   "execution_count": null,
   "metadata": {},
   "outputs": [],
   "source": [
    "grouped_data = df_seller_performance.groupby([\"year\"]).agg({\"total_products_sold\": \"sum\"}).sort_values(\"total_products_sold\", ascending=False)\n",
    "\n",
    "grouped_data['total_products_sold'].plot(kind='bar', figsize=(10, 6), color='orange')\n",
    "\n",
    "plt.title(\"Total Products Sold by Year (Top 10)\", fontsize=14)\n",
    "plt.xlabel(\"Total Products Sold\", fontsize=12)\n",
    "plt.ylabel(\"Year\", fontsize=12)\n",
    "plt.xticks(rotation=45, ha='right') \n",
    "\n",
    "plt.tight_layout()\n",
    "plt.show()"
   ]
  },
  {
   "cell_type": "markdown",
   "metadata": {},
   "source": [
    "# Products Performance Charts"
   ]
  },
  {
   "cell_type": "code",
   "execution_count": null,
   "metadata": {},
   "outputs": [],
   "source": [
    "# Define the SQL query\n",
    "query = f\"\"\"\n",
    "    SELECT \n",
    "        *\n",
    "    FROM \n",
    "        {facts_path}.fact_top_selling_products\n",
    "\"\"\"\n",
    "\n",
    "\n",
    "# Run the query\n",
    "query_job = client.query(query)\n",
    "\n",
    "# Run the query and fetch the results into a DataFrame\n",
    "df_product_performance = client.query(query).to_dataframe()"
   ]
  },
  {
   "cell_type": "markdown",
   "metadata": {},
   "source": [
    "# Top 10 Selling Product Categories"
   ]
  },
  {
   "cell_type": "code",
   "execution_count": null,
   "metadata": {},
   "outputs": [],
   "source": [
    "df_prod_cat = df_product_performance.groupby(\"product_category\").agg({\"total_revenue\": \"sum\"}).sort_values(\"total_revenue\", ascending=False)\n",
    "top_n = df_prod_cat.head(10)\n",
    "\n",
    "# Convert the total_revenue to millions for better visualization\n",
    "top_n.loc[:, 'total_revenue'] = top_n['total_revenue'] / 1e6\n",
    "\n",
    "# Plotting the horizontal bar chart\n",
    "ax = top_n['total_revenue'].plot(kind='barh', figsize=(10, 6), color='orange')\n",
    "\n",
    "# Adding labels and title\n",
    "plt.title(\"Top 10 Selling Product Categories\", fontsize=14)\n",
    "plt.xlabel(\"Total Revenue (Millions)\", fontsize=12)\n",
    "plt.ylabel(\"Product Category\", fontsize=12)\n",
    "plt.xticks(rotation=45, ha='right')  # Rotating x-axis labels for better visibility\n",
    "\n",
    "# Reverse the y-axis so that the top sales are on top\n",
    "plt.gca().invert_yaxis()\n",
    "\n",
    "# Display values in millions at the end of each bar\n",
    "for i, v in enumerate(top_n['total_revenue']):\n",
    "    ax.text(v + 0.05, i, f'{v:,.2f}M', va='center', ha='left', fontsize=10)\n",
    "\n",
    "plt.tight_layout()\n",
    "\n",
    "plt.show()"
   ]
  },
  {
   "cell_type": "markdown",
   "metadata": {},
   "source": [
    "# Day to Delivery (Bins)\n",
    "## Examine number of days it took from orders approval to orders being delivered to customer"
   ]
  },
  {
   "cell_type": "code",
   "execution_count": null,
   "metadata": {},
   "outputs": [],
   "source": [
    "# Define the SQL query\n",
    "query = f\"\"\"\n",
    "    SELECT \n",
    "        *\n",
    "    FROM \n",
    "        {facts_path}.fact_days_to_delivery AS A\n",
    "\"\"\"\n",
    "\n",
    "\n",
    "# Run the query\n",
    "query_job = client.query(query)\n",
    "\n",
    "# Run the query and fetch the results into a DataFrame\n",
    "df_days_to_delivery = client.query(query).to_dataframe()"
   ]
  },
  {
   "cell_type": "code",
   "execution_count": null,
   "metadata": {},
   "outputs": [],
   "source": [
    "# Create bins for total turnover (low, medium, high)\n",
    "bins = [0, 5, 10, 15, 20, 25, 30, 60, 100]  # Adjust bins as needed\n",
    "labels = ['0-5', '5-10', '10-15', '15-20', '20-25', '25-30', '30-60', '60+']\n",
    "df_days_to_delivery['delivery_range'] = pd.cut(df_days_to_delivery['days_to_delivery'], bins=bins, labels=labels)\n",
    "\n",
    "# Count the number of orders in each delivery range\n",
    "delivery_range_counts = df_days_to_delivery['delivery_range'].value_counts().sort_index()\n",
    "\n",
    "# Calculate percentage for each bin\n",
    "delivery_range_percentage = delivery_range_counts / delivery_range_counts.sum() * 100\n",
    "\n",
    "# Plotting the percentage of orders in each delivery range\n",
    "ax = delivery_range_percentage.plot(kind='bar', figsize=(10, 6), color='orange')\n",
    "\n",
    "plt.title(\"Day to Delivery (Bins) - Percentage\", fontsize=14)\n",
    "plt.xlabel(\"Days to Delivery\", fontsize=12)\n",
    "plt.ylabel(\"Percentage of Orders\", fontsize=12)\n",
    "plt.xticks(rotation=45, ha='right')  # Rotating x-axis labels for better visibility\n",
    "\n",
    "# Displaying the percentage on top of each bar\n",
    "for i, percentage in enumerate(delivery_range_percentage):\n",
    "    ax.text(i, percentage + 0.5, f'{percentage:.1f}%', ha='center', va='bottom', fontsize=12)\n",
    "\n",
    "plt.tight_layout()\n",
    "plt.show()"
   ]
  },
  {
   "cell_type": "code",
   "execution_count": null,
   "metadata": {},
   "outputs": [],
   "source": [
    "import dash\n",
    "from dash import dcc, html\n",
    "from dash.dependencies import Input, Output\n",
    "import plotly.graph_objects as go\n",
    "\n",
    "# Initialize the Dash app\n",
    "app = dash.Dash(__name__)\n",
    "\n",
    "# Create some sample data\n",
    "x = [1, 2, 3, 4, 5]\n",
    "y = [10, 11, 12, 13, 14]\n",
    "\n",
    "# Create a function to generate the figure based on the selected graph type\n",
    "def create_figure(graph_type):\n",
    "    if graph_type == 'line':\n",
    "        return go.Figure(data=go.Scatter(x=x, y=y, mode='lines', name='Line Plot'))\n",
    "    elif graph_type == 'bar':\n",
    "        return go.Figure(data=go.Bar(x=x, y=y, name='Bar Plot'))\n",
    "\n",
    "# Layout of the Dash app\n",
    "app.layout = html.Div(children=[\n",
    "    html.H1(\"Interactive Plotly Graph with Dash\"),\n",
    "    \n",
    "    # Dropdown to select graph type\n",
    "    dcc.Dropdown(\n",
    "        id='graph-type-dropdown',\n",
    "        options=[\n",
    "            {'label': 'Line Plot', 'value': 'line'},\n",
    "            {'label': 'Bar Plot', 'value': 'bar'}\n",
    "        ],\n",
    "        value='line',  # Default value\n",
    "        style={'width': '50%'}\n",
    "    ),\n",
    "    \n",
    "    # Graph to display the plot\n",
    "    dcc.Graph(id='dynamic-graph')\n",
    "])\n",
    "\n",
    "# Callback to update the graph based on dropdown selection\n",
    "@app.callback(\n",
    "    Output('dynamic-graph', 'figure'),\n",
    "    Input('graph-type-dropdown', 'value')\n",
    ")\n",
    "def update_graph(graph_type):\n",
    "    return create_figure(graph_type)\n",
    "\n",
    "# Run the app\n",
    "if __name__ == '__main__':\n",
    "    app.run(debug=True)\n"
   ]
  },
  {
   "cell_type": "markdown",
   "metadata": {},
   "source": [
    "# Total sales vs total revenue"
   ]
  },
  {
   "cell_type": "code",
   "execution_count": null,
   "metadata": {},
   "outputs": [],
   "source": [
    "from google.cloud import bigquery\n",
    "import pandas as pd\n",
    "import matplotlib.pyplot as plt  # Import matplotlib.pyplot as plt\n",
    "import seaborn as sns  # Import seaborn as sns\n",
    "\n",
    "# Initialize BigQuery client\n",
    "client = bigquery.Client()\n",
    "\n",
    "# Query the fact_top_selling_products table\n",
    "query = \"\"\"\n",
    "SELECT *\n",
    "FROM `dsai-module-2-project.brazilecom_facts.fact_top_selling_products`\n",
    "\"\"\"\n",
    "query_job = client.query(query)\n",
    "results = query_job.result()\n",
    "\n",
    "# Manually convert the results to a list of dictionaries\n",
    "data = [dict(row) for row in results]\n",
    "\n",
    "# Convert the list of dictionaries to a pandas DataFrame\n",
    "df = pd.DataFrame(data)\n",
    "\n",
    "# Check the columns in the DataFrame to confirm 'total_sales' and 'total_revenue' exist\n",
    "print(\"Available columns in the DataFrame:\")\n",
    "print(df.columns)\n",
    "\n",
    "# Check if 'total_sales' and 'total_revenue' are in the DataFrame\n",
    "if 'total_sales' in df.columns and 'total_revenue' in df.columns:\n",
    "    # Plot the scatter plot\n",
    "    plt.figure(figsize=(10, 6))\n",
    "    sns.scatterplot(x='total_sales', y='total_revenue', data=df)\n",
    "    plt.title('Scatter Plot: Total Sales vs Total Revenue')\n",
    "    plt.xlabel('Total Sales')\n",
    "    plt.ylabel('Total Revenue')\n",
    "    plt.tight_layout()\n",
    "    plt.show()\n",
    "else:\n",
    "    print(\"Columns 'total_sales' and 'total_revenue' not found. Please check the column names in your dataset.\")\n",
    "    print(\"Available columns:\", df.columns)"
   ]
  },
  {
   "cell_type": "markdown",
   "metadata": {},
   "source": [
    "# Total revenue vs Freight rate"
   ]
  },
  {
   "cell_type": "code",
   "execution_count": null,
   "metadata": {},
   "outputs": [],
   "source": [
    "# Initialize BigQuery client (assuming this is already set up in your environment)\n",
    "client = bigquery.Client()\n",
    "\n",
    "# Query to get revenue and freight value by year and month\n",
    "query = \"\"\"\n",
    "SELECT EXTRACT(YEAR FROM shipping_limit_date) AS year,\n",
    "       EXTRACT(MONTH FROM shipping_limit_date) AS month,\n",
    "       SUM(price) AS total_revenue,\n",
    "       SUM(freight_value) AS total_freight_value\n",
    "FROM `dsai-module-2-project.brazilecom_facts.fact_order_items`\n",
    "GROUP BY year, month\n",
    "ORDER BY year DESC, month DESC;\n",
    "\"\"\"\n",
    "\n",
    "# Run the query\n",
    "query_job = client.query(query)\n",
    "results = query_job.result()\n",
    "\n",
    "# Manually convert the results to a list of dictionaries\n",
    "data = [dict(row) for row in results]\n",
    "\n",
    "# Convert the list of dictionaries to a pandas DataFrame\n",
    "df = pd.DataFrame(data)\n",
    "\n",
    "# Combine year and month into a 'date' column for easier plotting\n",
    "df['date'] = pd.to_datetime(df[['year', 'month']].assign(day=1))\n",
    "\n",
    "# Print the DataFrame to inspect the data before plotting\n",
    "print(\"DataFrame with Total Revenue and Total Freight Value (before any filtering):\")\n",
    "print(df[['date', 'year', 'month', 'total_revenue', 'total_freight_value']])\n",
    "\n",
    "# Print the data type of the 'date' column to ensure it's a datetime object\n",
    "print(\"\\nData type of 'date' column:\", df['date'].dtype)\n",
    "\n",
    "# No filtering applied; use the full DataFrame for plotting\n",
    "df_filtered = df  # Use the unfiltered DataFrame\n",
    "\n",
    "# Print the data that will be plotted to confirm all data is included\n",
    "print(\"\\nData being plotted (Total Revenue):\")\n",
    "print(df_filtered[['date', 'total_revenue']])\n",
    "print(\"\\nData being plotted (Total Freight Value):\")\n",
    "print(df_filtered[['date', 'total_freight_value']])\n",
    "\n",
    "# Check if any data exists to plot\n",
    "if df_filtered.empty:\n",
    "    print(\"No significant data to plot.\")\n",
    "else:\n",
    "    # Plot the graph for the full data\n",
    "    plt.figure(figsize=(10, 6))\n",
    "    plt.plot(df_filtered['date'], df_filtered['total_revenue'], label='Total Revenue', marker='o', color='blue')\n",
    "    plt.plot(df_filtered['date'], df_filtered['total_freight_value'], label='Total Freight Value', marker='o', color='orange')\n",
    "\n",
    "    # Add labels and title\n",
    "    plt.title('Revenue and Freight Value by Month')\n",
    "    plt.xlabel('Date')\n",
    "    plt.ylabel('Amount')\n",
    "\n",
    "    # Set y-axis ticks to increments of 100,000\n",
    "    max_value = max(df_filtered['total_revenue'].max(), df_filtered['total_freight_value'].max())  # Find the maximum value in the data\n",
    "    tick_interval = 100000  # Set the interval to 100,000\n",
    "    y_ticks = range(0, int(max_value) + tick_interval, tick_interval)  # Create ticks from 0 to max_value in steps of 100,000\n",
    "    plt.gca().yaxis.set_major_locator(ticker.FixedLocator(y_ticks))  # Set the y-axis ticks\n",
    "    plt.gca().yaxis.set_major_formatter(ticker.FuncFormatter(lambda x, _: f'{int(x):,}'))  # Format ticks with commas\n",
    "\n",
    "    # Improve x-axis readability by setting ticks every 3 months\n",
    "    plt.gca().xaxis.set_major_locator(mdates.MonthLocator(interval=3))  # Show ticks every 3 months\n",
    "    plt.gca().xaxis.set_major_formatter(mdates.DateFormatter('%Y-%m'))  # Format as YYYY-MM\n",
    "\n",
    "    # Add data labels for 2020 data points with a spacer between them\n",
    "    df_2020 = df_filtered[df_filtered['year'] == 2020]\n",
    "    for i, row in df_2020.iterrows():\n",
    "        # Label for Total Revenue (blue) - higher offset to place it above\n",
    "        plt.text(row['date'], row['total_revenue'] + 50000, f'{row[\"total_revenue\"]:,.2f}', \n",
    "                 color='blue', ha='center', va='bottom', fontsize=8)\n",
    "    for i, row in df_2020.iterrows():\n",
    "        # Label for Total Freight Value (orange) - lower offset to place it below Total Revenue\n",
    "        plt.text(row['date'], row['total_freight_value'] + 10000, f'{row[\"total_freight_value\"]:,.2f}', \n",
    "                 color='orange', ha='center', va='bottom', fontsize=8)\n",
    "\n",
    "    # Add legend and adjust layout\n",
    "    plt.legend()\n",
    "    plt.xticks(rotation=45)\n",
    "    plt.tight_layout()\n",
    "\n",
    "    # Show the plot\n",
    "    plt.show()\n",
    "\n",
    "# Query the fact_top_selling_products table for the scatter plot\n",
    "query_top_selling = \"\"\"\n",
    "SELECT *\n",
    "FROM `dsai-module-2-project.brazilecom_facts.fact_top_selling_products`\n",
    "\"\"\"\n",
    "query_job_top_selling = client.query(query_top_selling)\n",
    "results_top_selling = query_job_top_selling.result()\n",
    "\n",
    "# Convert the results to a list of dictionaries\n",
    "data_top_selling = [dict(row) for row in results_top_selling]\n",
    "\n",
    "# Convert the list of dictionaries to a pandas DataFrame\n",
    "df_top_selling = pd.DataFrame(data_top_selling)\n",
    "\n",
    "# Check the columns in the DataFrame\n",
    "print(\"Available columns in the fact_top_selling_products DataFrame:\")\n",
    "print(df_top_selling.columns)\n",
    "\n",
    "# Check if the required columns exist\n",
    "if 'total_quantity_sold' in df_top_selling.columns and 'total_revenue' in df_top_selling.columns:\n",
    "    # Plot the scatter plot\n",
    "    plt.figure(figsize=(10, 6))\n",
    "    sns.scatterplot(x='total_quantity_sold', y='total_revenue', data=df_top_selling)\n",
    "    plt.title('Scatter Plot: Total Quantity Sold vs Total Revenue')\n",
    "    plt.xlabel('Total Quantity Sold')\n",
    "    plt.ylabel('Total Revenue')\n",
    "    plt.tight_layout()\n",
    "    plt.show()\n",
    "else:\n",
    "    print(\"Columns 'total_quantity_sold' and 'total_revenue' not found. Please check the column names in your dataset.\")\n",
    "    print(\"Available columns:\", df_top_selling.columns)"
   ]
  },
  {
   "cell_type": "markdown",
   "metadata": {},
   "source": []
  },
  {
   "cell_type": "code",
   "execution_count": 4,
   "metadata": {},
   "outputs": [
    {
     "data": {
      "image/png": "[encoded data removed]",
      "text/plain": [
       "<Figure size 1000x600 with 1 Axes>"
      ]
     },
     "metadata": {},
     "output_type": "display_data"
    }
   ],
   "source": [
    "import os\n",
    "import pandas as pd\n",
    "import matplotlib.pyplot as plt\n",
    "import seaborn as sns\n",
    "from google.cloud import bigquery\n",
    "\n",
    "# Set the correct path to your service account key file\n",
    "os.environ[\"GOOGLE_APPLICATION_CREDENTIALS\"] = \"/Users/wenyilee/Desktop/dsai-module-2-project-25282646cfd3.json\"\n",
    "\n",
    "# Initialize BigQuery client\n",
    "client = bigquery.Client()\n",
    "# Query the fact_top_selling_products table\n",
    "query = \"\"\"\n",
    "SELECT *\n",
    "FROM `dsai-module-2-project.brazilecom_facts.fact_top_selling_products`\n",
    "\"\"\"\n",
    "query_job = client.query(query)\n",
    "results = query_job.result()\n",
    "\n",
    "# Convert the results to a pandas DataFrame\n",
    "df = results.to_dataframe()\n",
    "\n",
    "if 'total_sales' in df.columns and 'total_revenue' in df.columns:\n",
    "    # Plot the scatter plot with orange color\n",
    "    plt.figure(figsize=(10, 6))\n",
    "    sns.scatterplot(x='total_sales', y='total_revenue', data=df, color='orange')\n",
    "    plt.title('Scatter Plot: Total Sales vs Total Revenue')\n",
    "    plt.xlabel('Total Sales')\n",
    "    plt.ylabel('Total Revenue')\n",
    "    plt.show()\n",
    "else:\n",
    "    print(\"Columns 'total_sales' and 'total_revenue' not found. Please check the column names in your dataset.\")\n",
    "    print(\"Available columns:\", df.columns)"
   ]
  }
 ],
 "metadata": {
  "kernelspec": {
   "display_name": "elt",
   "language": "python",
   "name": "python3"
  },
  "language_info": {
   "codemirror_mode": {
    "name": "ipython",
    "version": 3
   },
   "file_extension": ".py",
   "mimetype": "text/x-python",
   "name": "python",
   "nbconvert_exporter": "python",
   "pygments_lexer": "ipython3",
   "version": "3.10.14"
  }
 },
 "nbformat": 4,
 "nbformat_minor": 2
}
