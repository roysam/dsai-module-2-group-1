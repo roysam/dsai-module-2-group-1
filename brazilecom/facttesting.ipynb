{
 "cells": [
  {
   "cell_type": "markdown",
   "metadata": {},
   "source": [
    "**Activate `dwh` environment**\n",
    "\n",
    "And Install google-cloud-bigquery-storage, google-cloud-bigquery packages if not done yet.\n",
    "\n",
    "The following codes are for data analysis\n",
    "\n",
    "1. Seller performance (Top sellers by year)\n",
    "2. Product performance (Top selling product by category by year by city)"
   ]
  },
  {
   "cell_type": "code",
   "execution_count": 1,
   "metadata": {},
   "outputs": [
    {
     "name": "stdout",
     "output_type": "stream",
     "text": [
      "Successfully authenticated with project: premium-node-451703-i2\n"
     ]
    }
   ],
   "source": [
    "#Authenticate the user to access the bigquery API\n",
    "\n",
    "from google.auth import default\n",
    "from google.cloud import bigquery\n",
    "\n",
    "# Authenticate the user\n",
    "# run `gcloud auth application-default login` in your terminal to authenticate using your auth token\n",
    "\n",
    "# Set the project ID\n",
    "project_id = 'premium-node-451703-i2'\n",
    "\n",
    "# Use the default credentials\n",
    "credentials, project = default()\n",
    "\n",
    "# Initialize the BigQuery client\n",
    "client = bigquery.Client(credentials=credentials, project=project_id)\n",
    "\n",
    "print(f\"Successfully authenticated with project: {project_id}\")"
   ]
  },
  {
   "cell_type": "markdown",
   "metadata": {},
   "source": [
    "**Distinct value of order_status from orders table for reference** \n",
    "\n",
    "0\tapproved\n",
    "\n",
    "1\tcanceled\n",
    "\n",
    "2\tcreated\n",
    "\n",
    "3\tdelivered\n",
    "\n",
    "4\tinvoiced\n",
    "\n",
    "5\tprocessing\n",
    "\n",
    "6\tshipped\n",
    "\n",
    "7\tunavailable\n",
    "\n",
    "Note: The facts table only contains the orders which are in all status except `canceled`, `created` and `unavailable` as those orders are not confirmed and have no product information attached.\n",
    "\n"
   ]
  },
  {
   "cell_type": "code",
   "execution_count": 7,
   "metadata": {},
   "outputs": [
    {
     "data": {
      "text/plain": [
       "0     None\n",
       "1     None\n",
       "2     None\n",
       "3     None\n",
       "4     None\n",
       "      ... \n",
       "95    None\n",
       "96    None\n",
       "97    None\n",
       "98    None\n",
       "99    None\n",
       "Name: seller_id, Length: 100, dtype: object"
      ]
     },
     "execution_count": 7,
     "metadata": {},
     "output_type": "execute_result"
    }
   ],
   "source": [
    "#Fetch information from facts table and put into dataframe\n",
    "query=\"select * from premium-node-451703-i2.brazilecom_facts.facts_orders limit 300\"\n",
    "df_res = client.query(query).to_dataframe()\n",
    "df_res[\"seller_id\"]"
   ]
  },
  {
   "cell_type": "code",
   "execution_count": 8,
   "metadata": {},
   "outputs": [
    {
     "ename": "SyntaxError",
     "evalue": "invalid syntax. Perhaps you forgot a comma? (241468525.py, line 1)",
     "output_type": "error",
     "traceback": [
      "\u001b[1;36m  Cell \u001b[1;32mIn[8], line 1\u001b[1;36m\u001b[0m\n\u001b[1;33m    df[df['seller_id'] not null]\u001b[0m\n\u001b[1;37m       ^\u001b[0m\n\u001b[1;31mSyntaxError\u001b[0m\u001b[1;31m:\u001b[0m invalid syntax. Perhaps you forgot a comma?\n"
     ]
    }
   ],
   "source": [
    "df[df['seller_id'] not null]"
   ]
  },
  {
   "cell_type": "markdown",
   "metadata": {},
   "source": [
    "**Use Case 1: To find the best sellers by year**"
   ]
  },
  {
   "cell_type": "code",
   "execution_count": 6,
   "metadata": {},
   "outputs": [
    {
     "data": {
      "text/html": [
       "<div>\n",
       "<style scoped>\n",
       "    .dataframe tbody tr th:only-of-type {\n",
       "        vertical-align: middle;\n",
       "    }\n",
       "\n",
       "    .dataframe tbody tr th {\n",
       "        vertical-align: top;\n",
       "    }\n",
       "\n",
       "    .dataframe thead th {\n",
       "        text-align: right;\n",
       "    }\n",
       "</style>\n",
       "<table border=\"1\" class=\"dataframe\">\n",
       "  <thead>\n",
       "    <tr style=\"text-align: right;\">\n",
       "      <th></th>\n",
       "      <th>seller_id</th>\n",
       "      <th>order_year</th>\n",
       "      <th>seller_city</th>\n",
       "      <th>price</th>\n",
       "      <th>freight_value</th>\n",
       "    </tr>\n",
       "  </thead>\n",
       "  <tbody>\n",
       "  </tbody>\n",
       "</table>\n",
       "</div>"
      ],
      "text/plain": [
       "Empty DataFrame\n",
       "Columns: [seller_id, order_year, seller_city, price, freight_value]\n",
       "Index: []"
      ]
     },
     "execution_count": 6,
     "metadata": {},
     "output_type": "execute_result"
    }
   ],
   "source": [
    "# group by seller_id, order_year, seller_city and sum price and freight_value \n",
    "df_summary_bysellerbyyearbycity = df_res.groupby(['seller_id', 'order_year','seller_city']).agg({'price': 'sum', 'freight_value': 'sum'}).reset_index()\n",
    "df_summary_bysellerbyyearbycity.sort_values(by=['order_year', 'seller_city','price'], ascending=[True, False, True], inplace=True)\n",
    "df_summary_bysellerbyyearbycity.head()"
   ]
  },
  {
   "cell_type": "markdown",
   "metadata": {},
   "source": [
    "**Use Case 2: To find best product category by year by city**"
   ]
  },
  {
   "cell_type": "code",
   "execution_count": 4,
   "metadata": {},
   "outputs": [
    {
     "data": {
      "text/html": [
       "<div>\n",
       "<style scoped>\n",
       "    .dataframe tbody tr th:only-of-type {\n",
       "        vertical-align: middle;\n",
       "    }\n",
       "\n",
       "    .dataframe tbody tr th {\n",
       "        vertical-align: top;\n",
       "    }\n",
       "\n",
       "    .dataframe thead th {\n",
       "        text-align: right;\n",
       "    }\n",
       "</style>\n",
       "<table border=\"1\" class=\"dataframe\">\n",
       "  <thead>\n",
       "    <tr style=\"text-align: right;\">\n",
       "      <th></th>\n",
       "      <th>product_category_name_english</th>\n",
       "      <th>order_year</th>\n",
       "      <th>customer_city</th>\n",
       "      <th>price</th>\n",
       "      <th>freight_value</th>\n",
       "    </tr>\n",
       "  </thead>\n",
       "  <tbody>\n",
       "  </tbody>\n",
       "</table>\n",
       "</div>"
      ],
      "text/plain": [
       "Empty DataFrame\n",
       "Columns: [product_category_name_english, order_year, customer_city, price, freight_value]\n",
       "Index: []"
      ]
     },
     "execution_count": 4,
     "metadata": {},
     "output_type": "execute_result"
    }
   ],
   "source": [
    "df_bestproduct_byyearbycity = df_res.groupby(['product_category_name_english', 'order_year','customer_city']).agg({'price': 'sum', 'freight_value': 'sum'}).reset_index()\n",
    "df_bestproduct_byyearbycity.sort_values(by=['order_year', 'customer_city','price'], ascending=[True, False, True], inplace=True)\n",
    "df_bestproduct_byyearbycity.head()"
   ]
  },
  {
   "cell_type": "code",
   "execution_count": 4,
   "metadata": {
    "vscode": {
     "languageId": "markdown"
    }
   },
   "outputs": [
    {
     "data": {
      "text/html": [
       "<div>\n",
       "<style scoped>\n",
       "    .dataframe tbody tr th:only-of-type {\n",
       "        vertical-align: middle;\n",
       "    }\n",
       "\n",
       "    .dataframe tbody tr th {\n",
       "        vertical-align: top;\n",
       "    }\n",
       "\n",
       "    .dataframe thead th {\n",
       "        text-align: right;\n",
       "    }\n",
       "</style>\n",
       "<table border=\"1\" class=\"dataframe\">\n",
       "  <thead>\n",
       "    <tr style=\"text-align: right;\">\n",
       "      <th></th>\n",
       "      <th>geolocation_zip_code_prefix</th>\n",
       "      <th>geolocation_lat</th>\n",
       "      <th>geolocation_lng</th>\n",
       "      <th>geolocation_city</th>\n",
       "      <th>geolocation_state</th>\n",
       "    </tr>\n",
       "  </thead>\n",
       "  <tbody>\n",
       "    <tr>\n",
       "      <th>0</th>\n",
       "      <td>1037</td>\n",
       "      <td>-23.545621</td>\n",
       "      <td>-46.639292</td>\n",
       "      <td>sao paulo</td>\n",
       "      <td>SP</td>\n",
       "    </tr>\n",
       "    <tr>\n",
       "      <th>1</th>\n",
       "      <td>1046</td>\n",
       "      <td>-23.546081</td>\n",
       "      <td>-46.644820</td>\n",
       "      <td>sao paulo</td>\n",
       "      <td>SP</td>\n",
       "    </tr>\n",
       "    <tr>\n",
       "      <th>2</th>\n",
       "      <td>1046</td>\n",
       "      <td>-23.546129</td>\n",
       "      <td>-46.642951</td>\n",
       "      <td>sao paulo</td>\n",
       "      <td>SP</td>\n",
       "    </tr>\n",
       "    <tr>\n",
       "      <th>3</th>\n",
       "      <td>1041</td>\n",
       "      <td>-23.544392</td>\n",
       "      <td>-46.639499</td>\n",
       "      <td>sao paulo</td>\n",
       "      <td>SP</td>\n",
       "    </tr>\n",
       "    <tr>\n",
       "      <th>4</th>\n",
       "      <td>1035</td>\n",
       "      <td>-23.541578</td>\n",
       "      <td>-46.641607</td>\n",
       "      <td>sao paulo</td>\n",
       "      <td>SP</td>\n",
       "    </tr>\n",
       "  </tbody>\n",
       "</table>\n",
       "</div>"
      ],
      "text/plain": [
       "   geolocation_zip_code_prefix  geolocation_lat  geolocation_lng  \\\n",
       "0                         1037       -23.545621       -46.639292   \n",
       "1                         1046       -23.546081       -46.644820   \n",
       "2                         1046       -23.546129       -46.642951   \n",
       "3                         1041       -23.544392       -46.639499   \n",
       "4                         1035       -23.541578       -46.641607   \n",
       "\n",
       "  geolocation_city geolocation_state  \n",
       "0        sao paulo                SP  \n",
       "1        sao paulo                SP  \n",
       "2        sao paulo                SP  \n",
       "3        sao paulo                SP  \n",
       "4        sao paulo                SP  "
      ]
     },
     "execution_count": 4,
     "metadata": {},
     "output_type": "execute_result"
    }
   ],
   "source": [
    "import pandas as pd\n",
    "\n",
    "# Read the CSV file from the seeds folder\n",
    "csv_file_path = 'seeds/geolocation.csv'  # Replace 'your_file_name.csv' with the actual file name\n",
    "df_csv = pd.read_csv(csv_file_path)\n",
    "\n",
    "# Display the first few rows of the dataframe\n",
    "df_csv.head()"
   ]
  },
  {
   "cell_type": "code",
   "execution_count": 15,
   "metadata": {},
   "outputs": [],
   "source": [
    "\n",
    "# Find distinct geolocation_city and geolocation_zip_code_prefix\n",
    "distinct_geolocation = df_csv[['geolocation_city']].drop_duplicates()\n",
    "distinct_geolocation.to_csv('distinct_geolocation.csv', index=False)\n"
   ]
  },
  {
   "cell_type": "code",
   "execution_count": null,
   "metadata": {},
   "outputs": [],
   "source": [
    "# Calculate the size of each chunk\n",
    "chunk_size = len(distinct_geolocation) // 10\n",
    "\n",
    "# Split the DataFrame into 10 smaller DataFrames\n",
    "split_dataframes = [distinct_geolocation.iloc[i:i + chunk_size] for i in range(0, len(distinct_geolocation), chunk_size)]\n",
    "\n",
    "# Ensure there are exactly 10 DataFrames (in case of rounding issues)\n",
    "split_dataframes = split_dataframes[:10]\n",
    "\n",
    "# Display the first few rows of each DataFrame\n",
    "for i, df in enumerate(split_dataframes):\n",
    "    print(f\"DataFrame {i + 1}:\")\n",
    "    print(df.to_csv(f\"{i+1}.csv\"))\n",
    "    print()"
   ]
  },
  {
   "cell_type": "code",
   "execution_count": null,
   "metadata": {},
   "outputs": [],
   "source": [
    "# Define a mapping dictionary for city names\n",
    "city_name_mapping = {\n",
    "    'sao paulo': 'São Paulo',\n",
    "    'são paulo': 'São Paulo',\n",
    "    'sao bernardo do campo': 'São Bernardo do Campo',\n",
    "    'jundiaí': 'Jundiaí',\n",
    "    'taboão da serra': 'Taboão da Serra',\n",
    "    # Add more mappings as needed\n",
    "}\n",
    "\n",
    "# Tag similar city names with their English equivalents\n",
    "distinct_geolocation['english_city_name'] = distinct_geolocation['geolocation_city'].map(city_name_mapping).fillna(distinct_geolocation['geolocation_city'])\n",
    "\n",
    "distinct_geolocation.head()"
   ]
  },
  {
   "cell_type": "code",
   "execution_count": 10,
   "metadata": {},
   "outputs": [
    {
     "data": {
      "text/html": [
       "<div>\n",
       "<style scoped>\n",
       "    .dataframe tbody tr th:only-of-type {\n",
       "        vertical-align: middle;\n",
       "    }\n",
       "\n",
       "    .dataframe tbody tr th {\n",
       "        vertical-align: top;\n",
       "    }\n",
       "\n",
       "    .dataframe thead th {\n",
       "        text-align: right;\n",
       "    }\n",
       "</style>\n",
       "<table border=\"1\" class=\"dataframe\">\n",
       "  <thead>\n",
       "    <tr style=\"text-align: right;\">\n",
       "      <th></th>\n",
       "      <th>geolocation_city</th>\n",
       "    </tr>\n",
       "  </thead>\n",
       "  <tbody>\n",
       "    <tr>\n",
       "      <th>0</th>\n",
       "      <td>sao paulo</td>\n",
       "    </tr>\n",
       "    <tr>\n",
       "      <th>737892</th>\n",
       "      <td>sao paulo do potengi</td>\n",
       "    </tr>\n",
       "    <tr>\n",
       "      <th>778019</th>\n",
       "      <td>sao paulo de olivenca</td>\n",
       "    </tr>\n",
       "    <tr>\n",
       "      <th>989776</th>\n",
       "      <td>sao paulo das missoes</td>\n",
       "    </tr>\n",
       "  </tbody>\n",
       "</table>\n",
       "</div>"
      ],
      "text/plain": [
       "             geolocation_city\n",
       "0                   sao paulo\n",
       "737892   sao paulo do potengi\n",
       "778019  sao paulo de olivenca\n",
       "989776  sao paulo das missoes"
      ]
     },
     "execution_count": 10,
     "metadata": {},
     "output_type": "execute_result"
    }
   ],
   "source": [
    "\n",
    "sao_paulo_cities = distinct_geolocation[distinct_geolocation['geolocation_city'].str.startswith('sao paulo')]\n",
    "sao_paulo_cities"
   ]
  },
  {
   "cell_type": "code",
   "execution_count": 1,
   "metadata": {},
   "outputs": [
    {
     "name": "stderr",
     "output_type": "stream",
     "text": [
      "100%|██████████| 1/1 [00:00<?, ?it/s]\n"
     ]
    }
   ],
   "source": [
    "#test if the GCP is still working\n",
    "import pandas_gbq as pdgbq\n",
    "import pandas as pd\n",
    "\n",
    "bq_dataset_id = \"brazilecom\"\n",
    "bq_project_id = \"premium-node-451703-i2\"\n",
    "data=pd.DataFrame({'date': ['2023-10-01']})\n",
    "pdgbq.to_gbq(data, f\"{bq_dataset_id}.test\", project_id=bq_project_id, if_exists=\"replace\")"
   ]
  },
  {
   "cell_type": "code",
   "execution_count": 5,
   "metadata": {},
   "outputs": [
    {
     "name": "stdout",
     "output_type": "stream",
     "text": [
      "Resuming download from 37748736 bytes (6968844 bytes left)...\n",
      "Resuming download from https://www.kaggle.com/api/v1/datasets/download/olistbr/brazilian-ecommerce?dataset_version_number=2 (37748736/44717580) bytes left.\n"
     ]
    },
    {
     "name": "stderr",
     "output_type": "stream",
     "text": [
      "100%|██████████| 42.6M/42.6M [00:32<00:00, 212kB/s] "
     ]
    },
    {
     "name": "stdout",
     "output_type": "stream",
     "text": [
      "Extracting files...\n"
     ]
    },
    {
     "name": "stderr",
     "output_type": "stream",
     "text": [
      "\n"
     ]
    },
    {
     "name": "stdout",
     "output_type": "stream",
     "text": [
      "table name=customers, fullname=brazilecom.customers, project=premium-node-451703-i2\n"
     ]
    },
    {
     "name": "stderr",
     "output_type": "stream",
     "text": [
      "100%|██████████| 1/1 [00:00<?, ?it/s]\n"
     ]
    }
   ],
   "source": [
    "import kagglehub\n",
    "import os\n",
    "import pandas as pd\n",
    "import pandas_gbq as pdgbq\n",
    "\n",
    "bq_dataset_id = \"brazilecom\"\n",
    "bq_project_id = \"premium-node-451703-i2\"\n",
    "path = kagglehub.dataset_download(\"olistbr/brazilian-ecommerce\",force_download=True)\n",
    "for file_name in os.listdir(path):\n",
    "    full_file_name = os.path.join(path, file_name)\n",
    "    if os.path.isfile(full_file_name):\n",
    "        fname=full_file_name.replace(\"olist_\", \"\")\n",
    "        fname=fname.replace(\"_dataset\", \"\")\n",
    "        fname = os.path.basename(fname)\n",
    "        fname = fname.replace(\".csv\",\"\")\n",
    "        print(f\"table name={fname}, fullname={bq_dataset_id}.{fname}, project={bq_project_id}\")\n",
    "        data=pd.read_csv(full_file_name)\n",
    "        pdgbq.to_gbq(data, f\"{bq_dataset_id}.{fname}\", project_id=bq_project_id, if_exists=\"replace\")\n",
    "        break"
   ]
  }
 ],
 "metadata": {
  "kernelspec": {
   "display_name": "Python 3",
   "language": "python",
   "name": "python3"
  },
  "language_info": {
   "codemirror_mode": {
    "name": "ipython",
    "version": 3
   },
   "file_extension": ".py",
   "mimetype": "text/x-python",
   "name": "python",
   "nbconvert_exporter": "python",
   "pygments_lexer": "ipython3",
   "version": "3.10.6"
  }
 },
 "nbformat": 4,
 "nbformat_minor": 2
}
