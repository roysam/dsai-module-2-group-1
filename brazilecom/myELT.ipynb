{
 "cells": [
  {
   "cell_type": "markdown",
   "metadata": {},
   "source": [
    "**Prerequisites**\n",
    "1. Use `dwh` environment: `conda activate dwh`\n",
    "2. Install required package: `conda install kagglehub`\n",
    "3. Inititate `dbt` project: `dbt init brazilecom`\n",
    "4. Go to folder `brazilecom` and run the codes below\n",
    "5. For data analysis, need to install the following packages if not done before:\n",
    "   \n",
    "   5.1. google-cloud-bigquery-storage \n",
    "   \n",
    "   5.2. google-cloud-bigquery\n",
    "   5.3. dagster-gcp\n",
    "   \n",
    "\n",
    "**Part 1: Download Data**\n",
    "\n",
    "The following code is using Kagglehub API to extract brazilian-ecommerce dataset from Kaggle website and put under project `seeds` folder."
   ]
  },
  {
   "cell_type": "code",
   "execution_count": 1,
   "metadata": {},
   "outputs": [
    {
     "name": "stdout",
     "output_type": "stream",
     "text": [
      "Downloading from https://www.kaggle.com/api/v1/datasets/download/olistbr/brazilian-ecommerce?dataset_version_number=2...\n"
     ]
    },
    {
     "name": "stderr",
     "output_type": "stream",
     "text": [
      "100%|██████████| 42.6M/42.6M [00:19<00:00, 2.28MB/s]"
     ]
    },
    {
     "name": "stdout",
     "output_type": "stream",
     "text": [
      "Extracting files...\n"
     ]
    },
    {
     "name": "stderr",
     "output_type": "stream",
     "text": [
      "\n"
     ]
    },
    {
     "name": "stdout",
     "output_type": "stream",
     "text": [
      "Path to dataset files: C:\\Users\\seeke\\.cache\\kagglehub\\datasets\\olistbr\\brazilian-ecommerce\\versions\\2\n"
     ]
    }
   ],
   "source": [
    "import kagglehub\n",
    "\n",
    "# Download latest version\n",
    "path = kagglehub.dataset_download(\"olistbr/brazilian-ecommerce\",force_download=True)\n",
    "print(\"Path to dataset files:\", path)\n",
    "\n"
   ]
  },
  {
   "cell_type": "code",
   "execution_count": 3,
   "metadata": {},
   "outputs": [
    {
     "name": "stdout",
     "output_type": "stream",
     "text": [
      "(100, 5)\n"
     ]
    }
   ],
   "source": [
    "import shutil\n",
    "import os\n",
    "import pandas as pd\n",
    "\n",
    "# Move all files from the downloaded path to the \"data\" folder\n",
    "for file_name in os.listdir(path):\n",
    "    full_file_name = os.path.join(path, file_name)\n",
    "    if os.path.isfile(full_file_name):\n",
    "        #fname=full_file_name.replace(\"olist_\", \"\")\n",
    "        #fname=fname.replace(\"_dataset\", \"\")\n",
    "        #fname = os.path.basename(fname)\n",
    "        #shutil.copy(full_file_name, os.path.join(\"seeds\", fname))\n",
    "        df=pd.read_csv(full_file_name)\n",
    "        dff=df.iloc[0:100]\n",
    "        print(dff.shape)\n",
    "        break"
   ]
  },
  {
   "cell_type": "markdown",
   "metadata": {},
   "source": [
    "**Part 2: Extract data from seeds (CSV files) and load into bigquery table**\n",
    "1. configure dbt_project.yml and profiles.yml for seeds\n",
    "2. run seeds: `dbt seed`\n",
    "3. note: you need to exclude order_reviews.csv and geolcation.csv as they are not in use for this project."
   ]
  },
  {
   "cell_type": "markdown",
   "metadata": {},
   "source": [
    "**Part 3: Test raw data quality**\n",
    "\n",
    "Run raw data testing: `dbt test`.\n",
    "\n",
    "Note: the test cases are in properties.yml under `seeds` folder."
   ]
  },
  {
   "cell_type": "markdown",
   "metadata": {},
   "source": [
    "**Part 4. Transform the raw data into Dimention Tables and Fact Table**\n",
    "\n",
    "Run dbt: `dbt run`."
   ]
  },
  {
   "cell_type": "markdown",
   "metadata": {},
   "source": [
    "**Part 5. Generate documentation about this project**\n",
    "1. Generate documents: `dbt docs generate`\n",
    "2. View documents locally: `dbt docs serve`"
   ]
  }
 ],
 "metadata": {
  "kernelspec": {
   "display_name": "Python 3",
   "language": "python",
   "name": "python3"
  },
  "language_info": {
   "codemirror_mode": {
    "name": "ipython",
    "version": 3
   },
   "file_extension": ".py",
   "mimetype": "text/x-python",
   "name": "python",
   "nbconvert_exporter": "python",
   "pygments_lexer": "ipython3",
   "version": "3.10.6"
  }
 },
 "nbformat": 4,
 "nbformat_minor": 2
}
