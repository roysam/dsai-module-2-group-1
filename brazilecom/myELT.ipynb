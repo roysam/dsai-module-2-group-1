{
 "cells": [
  {
   "cell_type": "markdown",
   "metadata": {},
   "source": [
    "This is the main notebook for us to put our code.\n",
    "**Prerequisites**\n",
    "1. Use `dwh` environment: `conda activate dwh`\n",
    "2. Install `kagglehub` package: `conda install kagglehub`\n",
    "3. Inititate `dbt` project: `dbt init brazilecom`\n",
    "4. Go to folder `brazilecom` and run the codes below\n",
    "   \n",
    "**Part 1: Download Data**\n"
   ]
  },
  {
   "cell_type": "code",
   "execution_count": 12,
   "metadata": {},
   "outputs": [
    {
     "name": "stdout",
     "output_type": "stream",
     "text": [
      "Downloading from https://www.kaggle.com/api/v1/datasets/download/olistbr/brazilian-ecommerce?dataset_version_number=2...\n"
     ]
    },
    {
     "name": "stderr",
     "output_type": "stream",
     "text": [
      "100%|██████████| 42.6M/42.6M [00:05<00:00, 8.02MB/s]"
     ]
    },
    {
     "name": "stdout",
     "output_type": "stream",
     "text": [
      "Extracting files...\n"
     ]
    },
    {
     "name": "stderr",
     "output_type": "stream",
     "text": [
      "\n"
     ]
    },
    {
     "name": "stdout",
     "output_type": "stream",
     "text": [
      "Path to dataset files: C:\\Users\\seeke\\.cache\\kagglehub\\datasets\\olistbr\\brazilian-ecommerce\\versions\\2\n"
     ]
    }
   ],
   "source": [
    "import kagglehub\n",
    "\n",
    "# Download latest version\n",
    "path = kagglehub.dataset_download(\"olistbr/brazilian-ecommerce\",force_download=True)\n",
    "print(\"Path to dataset files:\", path)\n",
    "\n"
   ]
  },
  {
   "cell_type": "code",
   "execution_count": 13,
   "metadata": {},
   "outputs": [
    {
     "name": "stdout",
     "output_type": "stream",
     "text": [
      "Copying C:\\Users\\seeke\\.cache\\kagglehub\\datasets\\olistbr\\brazilian-ecommerce\\versions\\2\\olist_customers_dataset.csv\n",
      "Copying C:\\Users\\seeke\\.cache\\kagglehub\\datasets\\olistbr\\brazilian-ecommerce\\versions\\2\\olist_geolocation_dataset.csv\n",
      "Copying C:\\Users\\seeke\\.cache\\kagglehub\\datasets\\olistbr\\brazilian-ecommerce\\versions\\2\\olist_orders_dataset.csv\n",
      "Copying C:\\Users\\seeke\\.cache\\kagglehub\\datasets\\olistbr\\brazilian-ecommerce\\versions\\2\\olist_order_items_dataset.csv\n",
      "Copying C:\\Users\\seeke\\.cache\\kagglehub\\datasets\\olistbr\\brazilian-ecommerce\\versions\\2\\olist_order_payments_dataset.csv\n",
      "Copying C:\\Users\\seeke\\.cache\\kagglehub\\datasets\\olistbr\\brazilian-ecommerce\\versions\\2\\olist_order_reviews_dataset.csv\n",
      "Copying C:\\Users\\seeke\\.cache\\kagglehub\\datasets\\olistbr\\brazilian-ecommerce\\versions\\2\\olist_products_dataset.csv\n",
      "Copying C:\\Users\\seeke\\.cache\\kagglehub\\datasets\\olistbr\\brazilian-ecommerce\\versions\\2\\olist_sellers_dataset.csv\n",
      "Copying C:\\Users\\seeke\\.cache\\kagglehub\\datasets\\olistbr\\brazilian-ecommerce\\versions\\2\\product_category_name_translation.csv\n"
     ]
    }
   ],
   "source": [
    "import shutil\n",
    "import os\n",
    "\n",
    "# Move all files from the downloaded path to the \"data\" folder\n",
    "for file_name in os.listdir(path):\n",
    "    full_file_name = os.path.join(path, file_name)\n",
    "    print(\"Copying\", full_file_name)\n",
    "    if os.path.isfile(full_file_name):\n",
    "        shutil.copy(full_file_name, \"seeds\")"
   ]
  },
  {
   "cell_type": "markdown",
   "metadata": {},
   "source": [
    "**Part 2: Extract data from CSV and load into bigquery table**\n",
    "1. configure dbt_project.yml and profiles.yml for seeds\n",
    "2. run seeds: `dbt seed`\n",
    "3. note: you need to exclude olist_order_reviews_dataset.csv as it is not in use for this project and has invalid information"
   ]
  },
  {
   "cell_type": "markdown",
   "metadata": {},
   "source": [
    "**Part3: Test raw data quality**\n",
    "Run raw data testing: `dbt test`\n",
    "Note: the test cases are in properties.yml under `seeds` folder"
   ]
  },
  {
   "cell_type": "markdown",
   "metadata": {},
   "source": [
    "**Part 4. Transform the raw data into Dimention Tables and Fact Table**\n",
    "`TBD`"
   ]
  }
 ],
 "metadata": {
  "kernelspec": {
   "display_name": "Python 3",
   "language": "python",
   "name": "python3"
  },
  "language_info": {
   "codemirror_mode": {
    "name": "ipython",
    "version": 3
   },
   "file_extension": ".py",
   "mimetype": "text/x-python",
   "name": "python",
   "nbconvert_exporter": "python",
   "pygments_lexer": "ipython3",
   "version": "3.10.6"
  }
 },
 "nbformat": 4,
 "nbformat_minor": 2
}
