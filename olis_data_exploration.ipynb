{
 "cells": [
  {
   "cell_type": "markdown",
   "id": "e3176c14-3bf2-4104-a42f-e220540c9279",
   "metadata": {},
   "source": [
    "# 1. Install the packages"
   ]
  },
  {
   "cell_type": "code",
   "execution_count": null,
   "id": "64141fa0-440c-4cce-ad25-2408cf16c2a6",
   "metadata": {},
   "outputs": [],
   "source": [
    "pip install google-cloud-bigquery\n",
    "pip install google-cloud-bigquery-storage"
   ]
  },
  {
   "cell_type": "markdown",
   "id": "6696796e-0825-4e4d-9053-b6942b3804cf",
   "metadata": {},
   "source": [
    "# 2. Connection to Olist on BigQuery"
   ]
  },
  {
   "cell_type": "code",
   "execution_count": 32,
   "id": "3133383a-e7d2-48bd-81f1-3b46a4a55c78",
   "metadata": {},
   "outputs": [],
   "source": [
    "import pandas as pd\n",
    "import numpy as np\n",
    "\n",
    "from google.cloud import bigquery\n",
    "\n",
    "\n",
    "# Path to your service account key JSON file\n",
    "key_path = \"C:/Users/Tricia/personal/module_2_project/key/dsai-module-2-project-25282646cfd3.json\"\n",
    "        \n",
    "# Create credentials from service account key\n",
    "credentials = service_account.Credentials.from_service_account_file(\n",
    "    key_path,\n",
    "    scopes=[\"https://www.googleapis.com/auth/bigquery\"]\n",
    ")\n",
    "\n",
    "# Create BigQuery client\n",
    "client = bigquery.Client(\n",
    "    credentials=credentials,\n",
    "    project=credentials.project_id\n",
    ")\n"
   ]
  },
  {
   "cell_type": "markdown",
   "id": "3d58870a-b9fc-4ea3-b35e-229dd29741e8",
   "metadata": {},
   "source": [
    "# 3. From here onwards, we can query the data"
   ]
  },
  {
   "cell_type": "code",
   "execution_count": null,
   "id": "8cdd21a5-12c6-4669-86a8-c55413dd6025",
   "metadata": {},
   "outputs": [],
   "source": [
    "\n",
    "# Define the SQL query\n",
    "query = \"SELECT * FROM dsai-module-2-project.olist.order_items LIMIT 1000\"\n",
    "\n",
    "# Run the query\n",
    "query_job = client.query(query)\n",
    "\n",
    "# Wait for the query to finish and fetch the results\n",
    "results = query_job.result()\n",
    "\n",
    "# Run the query and fetch the results into a DataFrame\n",
    "df = client.query(query).to_dataframe()\n",
    "\n",
    "df"
   ]
  }
 ],
 "metadata": {
  "kernelspec": {
   "display_name": "Python 3 (ipykernel)",
   "language": "python",
   "name": "python3"
  },
  "language_info": {
   "codemirror_mode": {
    "name": "ipython",
    "version": 3
   },
   "file_extension": ".py",
   "mimetype": "text/x-python",
   "name": "python",
   "nbconvert_exporter": "python",
   "pygments_lexer": "ipython3",
   "version": "3.12.7"
  }
 },
 "nbformat": 4,
 "nbformat_minor": 5
}
