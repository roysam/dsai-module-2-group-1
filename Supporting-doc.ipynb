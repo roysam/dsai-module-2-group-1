{
 "cells": [
  {
   "cell_type": "markdown",
   "metadata": {},
   "source": [
    "USE CASE\n",
    "\n",
    "1. ACTOR: e-com platform operator\n",
    "2. Story: as the operator, I need to \n",
    "   A. design a pricing strategy for the sellers based on their performance (turnover by month/quart/year) and \n",
    "   B. target the products for different protomation strategy\n",
    "   C. target region for protomation \n",
    "\n",
    "Tool set:\n",
    "1. Bigquery for data respository\n",
    "2. DBT for pipeline\n",
    "3. Dagster for Orchestration and Automation\n",
    "4. Python ployit and/or matploylab for data analysis \n",
    "   \n",
    "WBS\n",
    "1. Schema design (VK/JM and ALL):  Due by 24\n",
    "2. Pipeline \n",
    "   1. Extraction: TR/AT: Due by 24\n",
    "   2. Loading: TR/AT: Due by 24\n",
    "   3. Transfermation: VK/JM: Due by 24\n",
    "3. Orchestration: JM/AT: Due by 25\n",
    "4. Data Analysis: RY/ALL: Due by 27\n",
    "5. Finalization: ALL: Due by 28\n",
    "6. Presentation: ALL: Due by 29\n",
    "\n",
    "Dims:\n",
    "1. Seller\n",
    "2. Product\n",
    "3. Location\n",
    "\n",
    "Facts:\n",
    "1. total sales turnover \n",
    "2. total amount of products\n",
    "   \n"
   ]
  },
  {
   "cell_type": "markdown",
   "metadata": {},
   "source": [
    "Architecture\n",
    "1. refer to the ../assets/Architecture.jpg\n"
   ]
  },
  {
   "cell_type": "markdown",
   "metadata": {},
   "source": [
    "Package required:\n",
    "1. "
   ]
  }
 ],
 "metadata": {
  "language_info": {
   "name": "python"
  }
 },
 "nbformat": 4,
 "nbformat_minor": 2
}
